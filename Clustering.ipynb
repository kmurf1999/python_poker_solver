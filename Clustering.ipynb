{
 "cells": [
  {
   "cell_type": "markdown",
   "metadata": {},
   "source": [
    "# Hand Clustering\n",
    "\n",
    "Experimenting with bucketing hands together using different metrics.\n",
    "\n",
    "Idea: Each time a public chance node is reached, a new board is created.  We group all hand combinations from both players ranges into these buckets"
   ]
  },
  {
   "cell_type": "markdown",
   "metadata": {},
   "source": [
    "### Imports"
   ]
  },
  {
   "cell_type": "code",
   "execution_count": 90,
   "metadata": {},
   "outputs": [],
   "source": [
    "import numpy as np\n",
    "import pandas as pd\n",
    "import matplotlib.pyplot as plt\n",
    "import seaborn as sns\n",
    "from time import time\n",
    "from sklearn.cluster import KMeans\n",
    "from sklearn import metrics\n",
    "from sklearn.preprocessing import scale\n",
    "\n",
    "from poker.hand import Range\n",
    "from treys import Card, Deck, Evaluator"
   ]
  },
  {
   "cell_type": "markdown",
   "metadata": {},
   "source": [
    "Helper Function to build integer based ranges from poker.hand ranges"
   ]
  },
  {
   "cell_type": "code",
   "execution_count": 2,
   "metadata": {},
   "outputs": [],
   "source": [
    "def build_range(combos):\n",
    "    # convert pretty suit to char\n",
    "    def suit_to_char(s):\n",
    "        if s == chr(9824): return 's'\n",
    "        if s == chr(9829): return 'h'\n",
    "        if s == chr(9830): return 'd'\n",
    "        if s == chr(9827): return 'c'\n",
    "    r = []\n",
    "    for combo in combos:\n",
    "        c1_str = str(combo.first)\n",
    "        c1 = c1_str[0] + suit_to_char(c1_str[1])\n",
    "        c2_str = str(combo.second)\n",
    "        c2 = c2_str[0] + suit_to_char(c2_str[1])\n",
    "        r.append((Card.new(c1), Card.new(c2)))\n",
    "    return r\n",
    "\n",
    "def cards_to_str(combo):\n",
    "    s = \"\"\n",
    "    for c in combo:\n",
    "        s += Card.int_to_str(c) + \" \"\n",
    "    return s"
   ]
  },
  {
   "cell_type": "markdown",
   "metadata": {},
   "source": [
    "### Create Data for testing\n",
    "Make hand ranges + board"
   ]
  },
  {
   "cell_type": "code",
   "execution_count": 47,
   "metadata": {},
   "outputs": [],
   "source": [
    "# hand_range_1 = build_range(Range('22+ A2+ K2+ Q2+ J2+ T2+ 92+ 82+ 72+ 62+ 52+ 42+ 32+').combos)\n",
    "hand_range_1 = build_range(Range('33+ ATo+ A8s+ KTs+ KJ+ QJ+ JTs T9s').combos)\n",
    "hand_range_2 = build_range(Range('33+ ATo+ A8s+ KTs+ KJ+ QJ+ JTs T9s').combos)\n",
    "board = [Card.new('Td'), Card.new('4h'), Card.new('5h'), Card.new('6s'), Card.new('7h')]"
   ]
  },
  {
   "cell_type": "markdown",
   "metadata": {},
   "source": [
    "### Feature Engineering\n",
    "\n",
    "First, we have to...\n",
    " - combine both ranges\n",
    " - remove duplicates\n",
    " - remove combos that conflict with board"
   ]
  },
  {
   "cell_type": "code",
   "execution_count": 48,
   "metadata": {},
   "outputs": [],
   "source": [
    "combined_range = list(set(hand_range_1 + hand_range_2))\n",
    "combined_range = list(filter(lambda c: not c[0] in board and not c[1] in board, combined_range))"
   ]
  },
  {
   "cell_type": "markdown",
   "metadata": {},
   "source": [
    "Next, my first idea is to capture different features of each hand such as\n",
    " - Hand score\n",
    " - Hand score squared\n",
    " - Hand score per card"
   ]
  },
  {
   "cell_type": "code",
   "execution_count": 70,
   "metadata": {},
   "outputs": [
    {
     "data": {
      "text/html": [
       "<div>\n",
       "<style scoped>\n",
       "    .dataframe tbody tr th:only-of-type {\n",
       "        vertical-align: middle;\n",
       "    }\n",
       "\n",
       "    .dataframe tbody tr th {\n",
       "        vertical-align: top;\n",
       "    }\n",
       "\n",
       "    .dataframe thead th {\n",
       "        text-align: right;\n",
       "    }\n",
       "</style>\n",
       "<table border=\"1\" class=\"dataframe\">\n",
       "  <thead>\n",
       "    <tr style=\"text-align: right;\">\n",
       "      <th></th>\n",
       "      <th>card1</th>\n",
       "      <th>card2</th>\n",
       "      <th>ev</th>\n",
       "      <th>ev_2</th>\n",
       "      <th>card1_ev</th>\n",
       "      <th>card2_ev</th>\n",
       "    </tr>\n",
       "  </thead>\n",
       "  <tbody>\n",
       "    <tr>\n",
       "      <td>0</td>\n",
       "      <td>1065995</td>\n",
       "      <td>1082379</td>\n",
       "      <td>2178</td>\n",
       "      <td>4743684</td>\n",
       "      <td>4356</td>\n",
       "      <td>4356</td>\n",
       "    </tr>\n",
       "    <tr>\n",
       "      <td>1</td>\n",
       "      <td>1057803</td>\n",
       "      <td>1082379</td>\n",
       "      <td>2178</td>\n",
       "      <td>4743684</td>\n",
       "      <td>4356</td>\n",
       "      <td>4356</td>\n",
       "    </tr>\n",
       "    <tr>\n",
       "      <td>2</td>\n",
       "      <td>1057803</td>\n",
       "      <td>1065995</td>\n",
       "      <td>2178</td>\n",
       "      <td>4743684</td>\n",
       "      <td>4356</td>\n",
       "      <td>4356</td>\n",
       "    </tr>\n",
       "    <tr>\n",
       "      <td>3</td>\n",
       "      <td>8406803</td>\n",
       "      <td>8423187</td>\n",
       "      <td>4596</td>\n",
       "      <td>21123216</td>\n",
       "      <td>20348</td>\n",
       "      <td>24724</td>\n",
       "    </tr>\n",
       "    <tr>\n",
       "      <td>4</td>\n",
       "      <td>8398611</td>\n",
       "      <td>8423187</td>\n",
       "      <td>4596</td>\n",
       "      <td>21123216</td>\n",
       "      <td>16051</td>\n",
       "      <td>24724</td>\n",
       "    </tr>\n",
       "  </tbody>\n",
       "</table>\n",
       "</div>"
      ],
      "text/plain": [
       "     card1    card2    ev      ev_2  card1_ev  card2_ev\n",
       "0  1065995  1082379  2178   4743684      4356      4356\n",
       "1  1057803  1082379  2178   4743684      4356      4356\n",
       "2  1057803  1065995  2178   4743684      4356      4356\n",
       "3  8406803  8423187  4596  21123216     20348     24724\n",
       "4  8398611  8423187  4596  21123216     16051     24724"
      ]
     },
     "execution_count": 70,
     "metadata": {},
     "output_type": "execute_result"
    }
   ],
   "source": [
    "evaluator = Evaluator()\n",
    "\n",
    "# create object to store data\n",
    "data = pd.DataFrame(data=combined_range, columns=['card1', 'card2'])\n",
    "# create map to store card scores\n",
    "card_scores = dict()\n",
    "# create map to store combo scores\n",
    "scores = []\n",
    "for (i, combo) in enumerate(combined_range):\n",
    "    score = evaluator.evaluate(list(combo), board)\n",
    "    scores.append(score)\n",
    "    try: card_scores[combo[0]] += score\n",
    "    except: card_scores[combo[0]] = score\n",
    "    try: card_scores[combo[1]] += score\n",
    "    except: card_scores[combo[1]] = score\n",
    "        \n",
    "# normalize value, could do this a better way\n",
    "# max_score = np.max(scores)\n",
    "# scores /= max_score\n",
    "# add to object\n",
    "data['ev'] = scores\n",
    "data['ev_2'] = data['ev'] * data['ev']\n",
    "# add card scores\n",
    "data['card1_ev'] = data.apply(lambda row: card_scores[row['card1']], axis=1)\n",
    "data['card2_ev'] = data.apply(lambda row: card_scores[row['card2']], axis=1)\n",
    "# normalize card scores\n",
    "# data['card1_ev'] = 1 - (data['card1_ev'] / np.max(data['card1_ev']))\n",
    "# data['card2_ev'] = 1 - (data['card2_ev'] / np.max(data['card2_ev']))\n",
    "\n",
    "data.head()"
   ]
  },
  {
   "cell_type": "markdown",
   "metadata": {},
   "source": [
    "### Testing\n",
    "Now lets try and use KMeans to group the data"
   ]
  },
  {
   "cell_type": "code",
   "execution_count": 100,
   "metadata": {},
   "outputs": [
    {
     "data": {
      "text/plain": [
       "KMeans(algorithm='auto', copy_x=True, init='k-means++', max_iter=300,\n",
       "       n_clusters=87, n_init=10, n_jobs=None, precompute_distances='auto',\n",
       "       random_state=None, tol=0.0001, verbose=0)"
      ]
     },
     "execution_count": 100,
     "metadata": {},
     "output_type": "execute_result"
    }
   ],
   "source": [
    "X_train = data[['ev', 'ev_2', 'card1_ev', 'card2_ev']]\n",
    "n_clusters = 87\n",
    "estimator = KMeans(init='k-means++', n_clusters=n_clusters, n_init=10)\n",
    "estimator.fit(X_train)"
   ]
  },
  {
   "cell_type": "markdown",
   "metadata": {},
   "source": [
    "Create a dict of all hands in their cluster to see"
   ]
  },
  {
   "cell_type": "code",
   "execution_count": 101,
   "metadata": {},
   "outputs": [],
   "source": [
    "clusters = [None] * n_clusters\n",
    "for (i, c) in enumerate(combined_range):\n",
    "    bucket = estimator.predict(X_train[i:i+1])[0]\n",
    "    if clusters[bucket] == None:\n",
    "        clusters[bucket] = [cards_to_str(c)]\n",
    "    else:\n",
    "        clusters[bucket].append(cards_to_str(c))"
   ]
  },
  {
   "cell_type": "markdown",
   "metadata": {},
   "source": [
    "### Results"
   ]
  },
  {
   "cell_type": "code",
   "execution_count": 120,
   "metadata": {},
   "outputs": [
    {
     "name": "stdout",
     "output_type": "stream",
     "text": [
      "Td 4h 5h 6s 7h \n",
      "['Ad Qd ', 'Ac Qc ', 'As Qs ', 'Ac Qs ', 'Ac Qd ', 'Ad Qc ', 'Ad Qs ', 'As Qc ', 'As Qd ']\n",
      "Unused: 0\n"
     ]
    }
   ],
   "source": [
    "print(cards_to_str(board))\n",
    "print(clusters[10])\n",
    "print(\"Unused:\", n_clusters - sum(x is not None for x in clusters))"
   ]
  },
  {
   "cell_type": "markdown",
   "metadata": {},
   "source": [
    "This seems to work pretty well.  It's important to note that this will only work on the river."
   ]
  },
  {
   "cell_type": "code",
   "execution_count": null,
   "metadata": {},
   "outputs": [],
   "source": []
  }
 ],
 "metadata": {
  "kernelspec": {
   "display_name": "Python 3",
   "language": "python",
   "name": "python3"
  },
  "language_info": {
   "codemirror_mode": {
    "name": "ipython",
    "version": 3
   },
   "file_extension": ".py",
   "mimetype": "text/x-python",
   "name": "python",
   "nbconvert_exporter": "python",
   "pygments_lexer": "ipython3",
   "version": "3.7.4"
  }
 },
 "nbformat": 4,
 "nbformat_minor": 2
}
