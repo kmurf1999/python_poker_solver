{
 "cells": [
  {
   "cell_type": "code",
   "execution_count": 1,
   "metadata": {},
   "outputs": [],
   "source": [
    "from poker import Range\n",
    "from treys import Card\n",
    "import numpy as np\n",
    "import matplotlib.pyplot as plt\n",
    "import seaborn as sns\n",
    "\n",
    "from cfr import CFRTrainer, MCCFRTrainer, ISet\n",
    "from state import State\n",
    "from exploitability import exploitability"
   ]
  },
  {
   "cell_type": "code",
   "execution_count": 2,
   "metadata": {},
   "outputs": [],
   "source": [
    "board = [Card.new('Td'), Card.new('9d'), Card.new('6h'), Card.new('2h'), Card.new('2c')]\n",
    "\n",
    "init_state = State()\n",
    "init_state.set_board(board)"
   ]
  },
  {
   "cell_type": "code",
   "execution_count": 3,
   "metadata": {},
   "outputs": [],
   "source": [
    "trainer = MCCFRTrainer(init_state, discount=True)"
   ]
  },
  {
   "cell_type": "code",
   "execution_count": null,
   "metadata": {},
   "outputs": [],
   "source": [
    "# for i in range(5):\n",
    "trainer.train(5000)\n",
    "#     print(trainer._nodes_touched, exploitability(trainer))"
   ]
  },
  {
   "cell_type": "code",
   "execution_count": null,
   "metadata": {},
   "outputs": [],
   "source": [
    "from state import build_range\n",
    "from treys import Card\n",
    "\n",
    "# p1_range = build_range(Range('22+ A2+ K2+ Q2+ J2+ T2+ 92+ 82+ 72+ 62+ 52+ 42+ 32+').combos)\n",
    "# p2_range = build_range(Range('22+ A2+ K2+ Q2+ J2+ T2+ 92+ 82+ 72+ 62+ 52+ 42+ 32+').combos)\n",
    "p1_range = build_range(Range('88+ AJo+ ATs+ KQ KJ JTs T9s').combos)\n",
    "p2_range = build_range(Range('88+ AJo+ ATs+ KQ KJ JTs T9s').combos)\n",
    "\n",
    "def get_ranks(combo) -> (int, int):\n",
    "    combo = [Card.int_to_str(c) for c in combo]\n",
    "    def rank_to_int(rank):\n",
    "        rank = str(rank)\n",
    "        if rank == 'A': return 12\n",
    "        if rank == 'K': return 11\n",
    "        if rank == 'Q': return 10\n",
    "        if rank == 'J': return 9\n",
    "        if rank == 'T': return 8\n",
    "        return int(rank) - 2\n",
    "\n",
    "    return (\n",
    "        rank_to_int(combo[0][0]),\n",
    "        rank_to_int(combo[1][0]))\n",
    "\n",
    "def is_suited(combo):\n",
    "    combo = [Card.int_to_str(c) for c in combo]\n",
    "    return combo[0][1] == combo[1][1]\n",
    "\n",
    "def print_strategy(player_idx, action_idx, history):\n",
    "    # get infosets for initial betting round\n",
    "    range_matrix = np.zeros((13, 13))\n",
    "    weight_matrix = np.zeros((13, 13))\n",
    "    x_axis_labels = ['A', 'K', 'Q', 'J', 'T', '9', '8', '7', '6', '5', '4', '3', '2']\n",
    "    y_axis_labels = ['A', 'K', 'Q', 'J', 'T', '9', '8', '7', '6', '5', '4', '3', '2']\n",
    "    range_sum = 0\n",
    "    weight_sum = 0\n",
    "    for k in trainer._infosets:\n",
    "        player, card, hist = k.split(' ')\n",
    "        if int(player) == player_idx and hist == history:\n",
    "            strategy = trainer._infosets[k].get_final_strategy()\n",
    "            \n",
    "            rank1, rank2 = get_ranks(p1_range[int(card)] if player_idx == 0 else p2_range[int(card)])\n",
    "            suited = is_suited(p1_range[int(card)]) if player_idx == 0 else is_suited(p2_range[int(card)])\n",
    "                        \n",
    "#             if player_idx == 0:\n",
    "#                 print([Card.int_to_str(c) for c in p1_range[int(card)]],\n",
    "#                       trainer._infosets[k].regrets,\n",
    "#                       trainer._infosets[k].get_final_strategy())\n",
    "#             if player_idx == 1 and rank1 == 3 and rank2 == 3:\n",
    "#                 print([Card.int_to_str(c) for c in p2_range[int(card)]], trainer._infosets[k].regrets)\n",
    "            \n",
    "            range_sum += strategy[action_idx]\n",
    "            weight_sum += 1\n",
    "            \n",
    "            if suited:\n",
    "                range_matrix[12-rank1][12-rank2] += strategy[action_idx] # or 1\n",
    "                weight_matrix[12-rank1][12-rank2] += 1\n",
    "            else:\n",
    "                range_matrix[12-rank2][12-rank1] += strategy[action_idx] # or 1\n",
    "                weight_matrix[12-rank2][12-rank1] += 1\n",
    "    # normalize\n",
    "    for i in range(13):\n",
    "        for j in range(13):\n",
    "            if weight_matrix[i][j] > 0:\n",
    "                range_matrix[i][j] /= weight_matrix[i][j]\n",
    "\n",
    "    print(\"action %:\", range_sum / weight_sum)\n",
    "    plt.figure(figsize=(7,6))\n",
    "    sns.heatmap(range_matrix, xticklabels=x_axis_labels, yticklabels=y_axis_labels)\n",
    "    plt.show()\n",
    "    \n",
    "\n",
    "print([Card.int_to_str(c) for c in init_state._board])\n",
    "print_strategy(0, 1, 'dd')"
   ]
  },
  {
   "cell_type": "code",
   "execution_count": null,
   "metadata": {},
   "outputs": [],
   "source": []
  }
 ],
 "metadata": {
  "kernelspec": {
   "display_name": "Python 3",
   "language": "python",
   "name": "python3"
  },
  "language_info": {
   "codemirror_mode": {
    "name": "ipython",
    "version": 3
   },
   "file_extension": ".py",
   "mimetype": "text/x-python",
   "name": "python",
   "nbconvert_exporter": "python",
   "pygments_lexer": "ipython3",
   "version": "3.7.4"
  }
 },
 "nbformat": 4,
 "nbformat_minor": 2
}
